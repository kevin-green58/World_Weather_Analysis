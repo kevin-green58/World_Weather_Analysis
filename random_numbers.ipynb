{
 "cells": [
  {
   "cell_type": "code",
   "execution_count": 1,
   "metadata": {},
   "outputs": [],
   "source": [
    "#Import the random module.\n",
    "import random"
   ]
  },
  {
   "cell_type": "code",
   "execution_count": 5,
   "metadata": {},
   "outputs": [
    {
     "data": {
      "text/plain": [
       "0.8559552880344797"
      ]
     },
     "execution_count": 5,
     "metadata": {},
     "output_type": "execute_result"
    }
   ],
   "source": [
    "random.random()"
   ]
  },
  {
   "cell_type": "code",
   "execution_count": 7,
   "metadata": {},
   "outputs": [],
   "source": [
    "x = 1\n",
    "latitudes = []\n",
    "while x < 11:\n",
    "    random_lat = random.randint(-90, 89) + random.random()\n",
    "    latitudes.append(random_lat)\n",
    "    x += 1"
   ]
  },
  {
   "cell_type": "code",
   "execution_count": 8,
   "metadata": {},
   "outputs": [
    {
     "data": {
      "text/plain": [
       "[-81.13774507470082,\n",
       " 60.333543916222276,\n",
       " 31.599943117985667,\n",
       " 70.76338334503521,\n",
       " -55.4665399637423,\n",
       " 3.9780336952785724,\n",
       " 59.19483022739818,\n",
       " -15.458122108555528,\n",
       " -7.107687188463679,\n",
       " -44.29956344274952]"
      ]
     },
     "execution_count": 8,
     "metadata": {},
     "output_type": "execute_result"
    }
   ],
   "source": [
    "latitudes"
   ]
  },
  {
   "cell_type": "code",
   "execution_count": 9,
   "metadata": {},
   "outputs": [],
   "source": [
    "import numpy as np"
   ]
  },
  {
   "cell_type": "code",
   "execution_count": 10,
   "metadata": {},
   "outputs": [
    {
     "data": {
      "text/plain": [
       "array([  3.20563636, -47.5959789 , -17.32069073, -29.05051918,\n",
       "       -56.35052456,  41.00686432,  -2.77302325, -71.98357232,\n",
       "        67.21737585,  34.04793032,  69.64809895, -36.82908902,\n",
       "       -82.03682441, -17.80431854, -18.27392577, -36.09003982,\n",
       "       -74.73206159,  21.68187642,  53.99331517,  -4.5035534 ,\n",
       "       -27.37580182,  82.81791239, -69.36020031, -68.07712603,\n",
       "       -14.10946529,  16.93244876, -33.02564902, -73.83462894,\n",
       "        15.94971131, -27.37135013,  38.416487  ,  19.21323084,\n",
       "       -56.61822896,  21.60625252, -20.06715263, -31.77822191,\n",
       "       -89.74213327,   6.37200223, -38.54789349,  -9.19703123,\n",
       "        88.80878436,  36.23967559,  69.5663506 ,  53.15107215,\n",
       "       -76.75480831, -62.13173602,  27.84843652,  -6.87894763,\n",
       "       -37.22218176, -10.01683477])"
      ]
     },
     "execution_count": 10,
     "metadata": {},
     "output_type": "execute_result"
    }
   ],
   "source": [
    "np.random.uniform(-90.000, 90.000, size = 50)"
   ]
  },
  {
   "cell_type": "code",
   "execution_count": null,
   "metadata": {},
   "outputs": [],
   "source": []
  }
 ],
 "metadata": {
  "kernelspec": {
   "display_name": "PythonData",
   "language": "python",
   "name": "pythondata"
  },
  "language_info": {
   "codemirror_mode": {
    "name": "ipython",
    "version": 3
   },
   "file_extension": ".py",
   "mimetype": "text/x-python",
   "name": "python",
   "nbconvert_exporter": "python",
   "pygments_lexer": "ipython3",
   "version": "3.7.7"
  }
 },
 "nbformat": 4,
 "nbformat_minor": 4
}
